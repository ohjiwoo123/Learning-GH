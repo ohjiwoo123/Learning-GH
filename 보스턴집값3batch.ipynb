{
  "nbformat": 4,
  "nbformat_minor": 0,
  "metadata": {
    "colab": {
      "name": "보스턴집값3batch.ipynb",
      "provenance": [],
      "collapsed_sections": [],
      "include_colab_link": true
    },
    "kernelspec": {
      "name": "python3",
      "display_name": "Python 3"
    },
    "language_info": {
      "name": "python"
    }
  },
  "cells": [
    {
      "cell_type": "markdown",
      "metadata": {
        "id": "view-in-github",
        "colab_type": "text"
      },
      "source": [
        "<a href=\"https://colab.research.google.com/github/ohjiwoo123/Learning-GH/blob/main/%E1%84%87%E1%85%A9%E1%84%89%E1%85%B3%E1%84%90%E1%85%A5%E1%86%AB%E1%84%8C%E1%85%B5%E1%86%B8%E1%84%80%E1%85%A1%E1%86%B93batch.ipynb\" target=\"_parent\"><img src=\"https://colab.research.google.com/assets/colab-badge.svg\" alt=\"Open In Colab\"/></a>"
      ]
    },
    {
      "cell_type": "markdown",
      "metadata": {
        "id": "vaEvA14eG3fr"
      },
      "source": [
        "# **학습이 잘 되는 모델**\n",
        "\n",
        "\n",
        "* 데이터 (github csv url) : \n",
        " * 보스턴 집값 예측 : https://raw.githubusercontent.com/blackdew/tensorflow1/master/csv/boston.csv\n",
        " * 아이리스 품종 분류 : https://raw.githubusercontent.com/blackdew/tensorflow1/master/csv/iris.csv \n",
        "\n",
        "\n",
        "*   사용할 레이어\n",
        " * tf.keras.layers.BatchNormalization()\n",
        " * tf.keras.layers.Activation('swish')\n",
        "\n",
        "\n",
        "\n",
        "\n",
        "\n"
      ]
    },
    {
      "cell_type": "code",
      "metadata": {
        "id": "2ARHhaLIG2Dz"
      },
      "source": [
        "# 라이브러리 사용\n",
        "import tensorflow as tf\n",
        "import pandas as pd"
      ],
      "execution_count": null,
      "outputs": []
    },
    {
      "cell_type": "code",
      "metadata": {
        "colab": {
          "base_uri": "https://localhost:8080/",
          "height": 255
        },
        "id": "pEXZja-GG_kV",
        "outputId": "315c6b35-2968-48b5-fc11-5cea733cb25f"
      },
      "source": [
        "# 1. 과거의 데이터를 준비합니다.\n",
        "파일경로 = 'https://raw.githubusercontent.com/blackdew/tensorflow1/master/csv/boston.csv'\n",
        "보스턴 = pd.read_csv(파일경로)\n",
        "print(보스턴.columns)\n",
        "보스턴.head()"
      ],
      "execution_count": null,
      "outputs": [
        {
          "output_type": "stream",
          "text": [
            "Index(['crim', 'zn', 'indus', 'chas', 'nox', 'rm', 'age', 'dis', 'rad', 'tax',\n",
            "       'ptratio', 'b', 'lstat', 'medv'],\n",
            "      dtype='object')\n"
          ],
          "name": "stdout"
        },
        {
          "output_type": "execute_result",
          "data": {
            "text/html": [
              "<div>\n",
              "<style scoped>\n",
              "    .dataframe tbody tr th:only-of-type {\n",
              "        vertical-align: middle;\n",
              "    }\n",
              "\n",
              "    .dataframe tbody tr th {\n",
              "        vertical-align: top;\n",
              "    }\n",
              "\n",
              "    .dataframe thead th {\n",
              "        text-align: right;\n",
              "    }\n",
              "</style>\n",
              "<table border=\"1\" class=\"dataframe\">\n",
              "  <thead>\n",
              "    <tr style=\"text-align: right;\">\n",
              "      <th></th>\n",
              "      <th>crim</th>\n",
              "      <th>zn</th>\n",
              "      <th>indus</th>\n",
              "      <th>chas</th>\n",
              "      <th>nox</th>\n",
              "      <th>rm</th>\n",
              "      <th>age</th>\n",
              "      <th>dis</th>\n",
              "      <th>rad</th>\n",
              "      <th>tax</th>\n",
              "      <th>ptratio</th>\n",
              "      <th>b</th>\n",
              "      <th>lstat</th>\n",
              "      <th>medv</th>\n",
              "    </tr>\n",
              "  </thead>\n",
              "  <tbody>\n",
              "    <tr>\n",
              "      <th>0</th>\n",
              "      <td>0.00632</td>\n",
              "      <td>18.0</td>\n",
              "      <td>2.31</td>\n",
              "      <td>0</td>\n",
              "      <td>0.538</td>\n",
              "      <td>6.575</td>\n",
              "      <td>65.2</td>\n",
              "      <td>4.0900</td>\n",
              "      <td>1</td>\n",
              "      <td>296</td>\n",
              "      <td>15.3</td>\n",
              "      <td>396.90</td>\n",
              "      <td>4.98</td>\n",
              "      <td>24.0</td>\n",
              "    </tr>\n",
              "    <tr>\n",
              "      <th>1</th>\n",
              "      <td>0.02731</td>\n",
              "      <td>0.0</td>\n",
              "      <td>7.07</td>\n",
              "      <td>0</td>\n",
              "      <td>0.469</td>\n",
              "      <td>6.421</td>\n",
              "      <td>78.9</td>\n",
              "      <td>4.9671</td>\n",
              "      <td>2</td>\n",
              "      <td>242</td>\n",
              "      <td>17.8</td>\n",
              "      <td>396.90</td>\n",
              "      <td>9.14</td>\n",
              "      <td>21.6</td>\n",
              "    </tr>\n",
              "    <tr>\n",
              "      <th>2</th>\n",
              "      <td>0.02729</td>\n",
              "      <td>0.0</td>\n",
              "      <td>7.07</td>\n",
              "      <td>0</td>\n",
              "      <td>0.469</td>\n",
              "      <td>7.185</td>\n",
              "      <td>61.1</td>\n",
              "      <td>4.9671</td>\n",
              "      <td>2</td>\n",
              "      <td>242</td>\n",
              "      <td>17.8</td>\n",
              "      <td>392.83</td>\n",
              "      <td>4.03</td>\n",
              "      <td>34.7</td>\n",
              "    </tr>\n",
              "    <tr>\n",
              "      <th>3</th>\n",
              "      <td>0.03237</td>\n",
              "      <td>0.0</td>\n",
              "      <td>2.18</td>\n",
              "      <td>0</td>\n",
              "      <td>0.458</td>\n",
              "      <td>6.998</td>\n",
              "      <td>45.8</td>\n",
              "      <td>6.0622</td>\n",
              "      <td>3</td>\n",
              "      <td>222</td>\n",
              "      <td>18.7</td>\n",
              "      <td>394.63</td>\n",
              "      <td>2.94</td>\n",
              "      <td>33.4</td>\n",
              "    </tr>\n",
              "    <tr>\n",
              "      <th>4</th>\n",
              "      <td>0.06905</td>\n",
              "      <td>0.0</td>\n",
              "      <td>2.18</td>\n",
              "      <td>0</td>\n",
              "      <td>0.458</td>\n",
              "      <td>7.147</td>\n",
              "      <td>54.2</td>\n",
              "      <td>6.0622</td>\n",
              "      <td>3</td>\n",
              "      <td>222</td>\n",
              "      <td>18.7</td>\n",
              "      <td>396.90</td>\n",
              "      <td>5.33</td>\n",
              "      <td>36.2</td>\n",
              "    </tr>\n",
              "  </tbody>\n",
              "</table>\n",
              "</div>"
            ],
            "text/plain": [
              "      crim    zn  indus  chas    nox  ...  tax  ptratio       b  lstat  medv\n",
              "0  0.00632  18.0   2.31     0  0.538  ...  296     15.3  396.90   4.98  24.0\n",
              "1  0.02731   0.0   7.07     0  0.469  ...  242     17.8  396.90   9.14  21.6\n",
              "2  0.02729   0.0   7.07     0  0.469  ...  242     17.8  392.83   4.03  34.7\n",
              "3  0.03237   0.0   2.18     0  0.458  ...  222     18.7  394.63   2.94  33.4\n",
              "4  0.06905   0.0   2.18     0  0.458  ...  222     18.7  396.90   5.33  36.2\n",
              "\n",
              "[5 rows x 14 columns]"
            ]
          },
          "metadata": {
            "tags": []
          },
          "execution_count": 4
        }
      ]
    },
    {
      "cell_type": "code",
      "metadata": {
        "colab": {
          "base_uri": "https://localhost:8080/"
        },
        "id": "ke0J80nfHc9d",
        "outputId": "5d71ee33-b770-43a4-a570-2a3c2df5a9cb"
      },
      "source": [
        "# 독립변수, 종속변수\n",
        "독립 = 보스턴[['crim', 'zn', 'indus', 'chas', 'nox', 'rm', 'age', 'dis', 'rad', 'tax',\n",
        "       'ptratio', 'b', 'lstat']]\n",
        "종속 = 보스턴[['medv']]\n",
        "print(독립.shape, 종속.shape)"
      ],
      "execution_count": null,
      "outputs": [
        {
          "output_type": "stream",
          "text": [
            "(506, 13) (506, 1)\n"
          ],
          "name": "stdout"
        }
      ]
    },
    {
      "cell_type": "code",
      "metadata": {
        "id": "TvdoDSJnY3Aj"
      },
      "source": [
        "# 모델의 구조를 만듭니다.\n",
        "X = tf.keras.layers.Input(shape=[13])\n",
        "H = tf.keras.layers.Dense(8)(X)\n",
        "H = tf.keras.layers.BatchNormalization()(H)\n",
        "H = tf.keras.layers.Activation('swish')(H)\n",
        "\n",
        "H = tf.keras.layers.Dense(8)(H)\n",
        "H = tf.keras.layers.BatchNormalization()(H)\n",
        "H = tf.keras.layers.Activation('swish')(H)\n",
        "\n",
        "H = tf.keras.layers.Dense(8)(H)\n",
        "H = tf.keras.layers.BatchNormalization()(H)\n",
        "H = tf.keras.layers.Activation('swish')(H)\n",
        "\n",
        "Y = tf.keras.layers.Dense(1)(H)\n",
        "model = tf.keras.models.Model(X,Y)\n",
        "model.compile(loss='mse')"
      ],
      "execution_count": null,
      "outputs": []
    },
    {
      "cell_type": "code",
      "metadata": {
        "colab": {
          "base_uri": "https://localhost:8080/"
        },
        "id": "4XmrRmeSIpPv",
        "outputId": "1e004af1-149f-4799-9340-7cbac767aeec"
      },
      "source": [
        "# 데이터로 모델을 학습(FIT)합니다.\n",
        "model.fit(독립, 종속, epochs=1000, verbose= 0)\n",
        "model.fit(독립, 종속, epochs=10)"
      ],
      "execution_count": null,
      "outputs": [
        {
          "output_type": "stream",
          "text": [
            "Epoch 1/10\n",
            "16/16 [==============================] - 0s 2ms/step - loss: 13.5071\n",
            "Epoch 2/10\n",
            "16/16 [==============================] - 0s 2ms/step - loss: 10.1052\n",
            "Epoch 3/10\n",
            "16/16 [==============================] - 0s 2ms/step - loss: 10.2158\n",
            "Epoch 4/10\n",
            "16/16 [==============================] - 0s 2ms/step - loss: 14.2919\n",
            "Epoch 5/10\n",
            "16/16 [==============================] - 0s 2ms/step - loss: 9.9462\n",
            "Epoch 6/10\n",
            "16/16 [==============================] - 0s 2ms/step - loss: 10.7601\n",
            "Epoch 7/10\n",
            "16/16 [==============================] - 0s 2ms/step - loss: 11.8482\n",
            "Epoch 8/10\n",
            "16/16 [==============================] - 0s 2ms/step - loss: 11.2292\n",
            "Epoch 9/10\n",
            "16/16 [==============================] - 0s 2ms/step - loss: 13.9666\n",
            "Epoch 10/10\n",
            "16/16 [==============================] - 0s 2ms/step - loss: 10.9534\n"
          ],
          "name": "stdout"
        },
        {
          "output_type": "execute_result",
          "data": {
            "text/plain": [
              "<tensorflow.python.keras.callbacks.History at 0x7ff465de93d0>"
            ]
          },
          "metadata": {
            "tags": []
          },
          "execution_count": 7
        }
      ]
    },
    {
      "cell_type": "code",
      "metadata": {
        "colab": {
          "base_uri": "https://localhost:8080/"
        },
        "id": "K9bpouJmARPK",
        "outputId": "66dead1a-c641-45eb-f745-04daa68008d7"
      },
      "source": [
        "# 모델을 요약합니다. (중간요약)\n",
        "model.summary()"
      ],
      "execution_count": null,
      "outputs": [
        {
          "output_type": "stream",
          "text": [
            "Model: \"model\"\n",
            "_________________________________________________________________\n",
            "Layer (type)                 Output Shape              Param #   \n",
            "=================================================================\n",
            "input_1 (InputLayer)         [(None, 13)]              0         \n",
            "_________________________________________________________________\n",
            "dense (Dense)                (None, 8)                 112       \n",
            "_________________________________________________________________\n",
            "batch_normalization (BatchNo (None, 8)                 32        \n",
            "_________________________________________________________________\n",
            "activation (Activation)      (None, 8)                 0         \n",
            "_________________________________________________________________\n",
            "dense_1 (Dense)              (None, 8)                 72        \n",
            "_________________________________________________________________\n",
            "batch_normalization_1 (Batch (None, 8)                 32        \n",
            "_________________________________________________________________\n",
            "activation_1 (Activation)    (None, 8)                 0         \n",
            "_________________________________________________________________\n",
            "dense_2 (Dense)              (None, 8)                 72        \n",
            "_________________________________________________________________\n",
            "batch_normalization_2 (Batch (None, 8)                 32        \n",
            "_________________________________________________________________\n",
            "activation_2 (Activation)    (None, 8)                 0         \n",
            "_________________________________________________________________\n",
            "dense_3 (Dense)              (None, 1)                 9         \n",
            "=================================================================\n",
            "Total params: 361\n",
            "Trainable params: 313\n",
            "Non-trainable params: 48\n",
            "_________________________________________________________________\n"
          ],
          "name": "stdout"
        }
      ]
    },
    {
      "cell_type": "code",
      "metadata": {
        "colab": {
          "base_uri": "https://localhost:8080/"
        },
        "id": "zpoXM4sYJLWx",
        "outputId": "1203d91d-408f-457c-b938-fd545d9700b4"
      },
      "source": [
        "# 모델을 이용합니다.\n",
        "model.predict(독립[0:5])\n"
      ],
      "execution_count": null,
      "outputs": [
        {
          "output_type": "execute_result",
          "data": {
            "text/plain": [
              "array([[27.825975],\n",
              "       [24.098265],\n",
              "       [34.74288 ],\n",
              "       [34.06006 ],\n",
              "       [34.228798]], dtype=float32)"
            ]
          },
          "metadata": {
            "tags": []
          },
          "execution_count": 9
        }
      ]
    },
    {
      "cell_type": "code",
      "metadata": {
        "colab": {
          "base_uri": "https://localhost:8080/",
          "height": 204
        },
        "id": "MYbVjmWtaiTY",
        "outputId": "e239a6a9-64a1-4bcd-e8c6-b53984cb3008"
      },
      "source": [
        "# 종속 변수 확인\n",
        "종속[0:5]"
      ],
      "execution_count": null,
      "outputs": [
        {
          "output_type": "execute_result",
          "data": {
            "text/html": [
              "<div>\n",
              "<style scoped>\n",
              "    .dataframe tbody tr th:only-of-type {\n",
              "        vertical-align: middle;\n",
              "    }\n",
              "\n",
              "    .dataframe tbody tr th {\n",
              "        vertical-align: top;\n",
              "    }\n",
              "\n",
              "    .dataframe thead th {\n",
              "        text-align: right;\n",
              "    }\n",
              "</style>\n",
              "<table border=\"1\" class=\"dataframe\">\n",
              "  <thead>\n",
              "    <tr style=\"text-align: right;\">\n",
              "      <th></th>\n",
              "      <th>medv</th>\n",
              "    </tr>\n",
              "  </thead>\n",
              "  <tbody>\n",
              "    <tr>\n",
              "      <th>0</th>\n",
              "      <td>24.0</td>\n",
              "    </tr>\n",
              "    <tr>\n",
              "      <th>1</th>\n",
              "      <td>21.6</td>\n",
              "    </tr>\n",
              "    <tr>\n",
              "      <th>2</th>\n",
              "      <td>34.7</td>\n",
              "    </tr>\n",
              "    <tr>\n",
              "      <th>3</th>\n",
              "      <td>33.4</td>\n",
              "    </tr>\n",
              "    <tr>\n",
              "      <th>4</th>\n",
              "      <td>36.2</td>\n",
              "    </tr>\n",
              "  </tbody>\n",
              "</table>\n",
              "</div>"
            ],
            "text/plain": [
              "   medv\n",
              "0  24.0\n",
              "1  21.6\n",
              "2  34.7\n",
              "3  33.4\n",
              "4  36.2"
            ]
          },
          "metadata": {
            "tags": []
          },
          "execution_count": 10
        }
      ]
    },
    {
      "cell_type": "code",
      "metadata": {
        "colab": {
          "base_uri": "https://localhost:8080/"
        },
        "id": "j-JInauBJ0nP",
        "outputId": "5b59cc72-8a46-4d1b-ce44-ec18b592567b"
      },
      "source": [
        "# 모델의 수식 확인\n",
        "model.get_weights()"
      ],
      "execution_count": null,
      "outputs": [
        {
          "output_type": "execute_result",
          "data": {
            "text/plain": [
              "[array([[ 9.62987542e-02,  4.36141819e-01, -2.62806326e-01,\n",
              "          7.82121837e-01, -2.00780015e-02, -1.91207938e-02,\n",
              "         -2.74308380e-02, -9.03837502e-01],\n",
              "        [ 5.85764885e-01, -8.78606364e-02, -2.74786800e-01,\n",
              "          4.59871501e-01, -1.48323447e-01,  3.10284406e-01,\n",
              "          1.07191324e-01,  2.68802136e-01],\n",
              "        [ 4.14243311e-01, -2.86395401e-01, -1.58497676e-01,\n",
              "          3.41963992e-02,  3.97748798e-01,  4.20087367e-01,\n",
              "          1.08060785e-01, -4.44164425e-01],\n",
              "        [ 4.35145974e-01, -8.87392282e-01, -1.08663619e+00,\n",
              "          2.85353996e-02, -1.11359489e+00, -2.08573341e-01,\n",
              "          1.27872348e+00,  1.67924273e+00],\n",
              "        [-2.21504664e+00,  1.44413984e+00,  4.56813669e+00,\n",
              "         -1.49987710e+00, -2.14933491e+00,  1.92527783e+00,\n",
              "         -3.22977614e+00,  7.32120126e-03],\n",
              "        [ 9.86455142e-01, -2.53719687e+00,  2.34000039e+00,\n",
              "          3.26812673e+00,  2.89945865e+00, -3.03065634e+00,\n",
              "         -6.25488535e-02,  6.25976503e-01],\n",
              "        [ 7.29730949e-02,  2.73531266e-02,  2.95477450e-01,\n",
              "          7.73690194e-02, -3.30266692e-02,  7.50177205e-02,\n",
              "          2.27043219e-02, -1.07799587e-03],\n",
              "        [-1.24343008e-01,  8.78294051e-01,  1.49343097e+00,\n",
              "         -5.32309264e-02, -2.76121520e-03,  3.58549774e-01,\n",
              "         -1.80159807e+00,  5.76315880e-01],\n",
              "        [ 4.37807888e-01, -7.89669633e-01, -9.79105309e-02,\n",
              "         -8.94032836e-01, -2.81523317e-01, -3.57980072e-01,\n",
              "         -3.70047241e-02,  2.96380043e-01],\n",
              "        [ 2.12143943e-01,  2.06654845e-03,  4.80824225e-02,\n",
              "         -2.65861124e-01, -1.28387660e-01, -1.47552699e-01,\n",
              "         -9.58235655e-03, -4.64952081e-01],\n",
              "        [ 1.86065108e-01,  5.09026647e-01, -8.46352335e-03,\n",
              "          6.04725294e-02, -1.25186190e-01,  4.46175277e-01,\n",
              "          9.76973865e-03, -8.25014934e-02],\n",
              "        [ 7.99808800e-02,  4.27811891e-02,  1.85756847e-01,\n",
              "          1.37014454e-02, -5.69936372e-02,  8.12879298e-05,\n",
              "          1.45785948e-02,  2.52465308e-01],\n",
              "        [-9.53275502e-01,  1.30710289e-01,  6.90969646e-01,\n",
              "          2.01990813e-01, -1.97625205e-01, -1.00440070e-01,\n",
              "         -8.56651068e-01,  7.52833664e-01]], dtype=float32),\n",
              " array([ 0.06153448, -0.09246409, -0.06923765, -0.03319762, -0.06657144,\n",
              "        -0.08133407,  0.01022546,  0.01110355], dtype=float32),\n",
              " array([0.85608125, 0.9162496 , 0.902031  , 1.0445604 , 1.0446292 ,\n",
              "        1.1056275 , 0.626833  , 0.6918344 ], dtype=float32),\n",
              " array([ 0.07840267,  0.19885609, -0.2819363 , -0.11402598,  0.06973385,\n",
              "         0.24372615,  0.4844024 ,  0.36353716], dtype=float32),\n",
              " array([131.57413  ,   6.8142686, 131.30544  , -75.08117  , -62.75401  ,\n",
              "        -60.19448  , -13.605214 , -88.650314 ], dtype=float32),\n",
              " array([1182.1207  ,   60.79912 ,  355.15146 , 2551.573   ,  432.77414 ,\n",
              "         716.9137  ,   53.374504, 8935.382   ], dtype=float32),\n",
              " array([[-0.09377953, -0.61763656,  0.32623994,  0.1411683 , -0.09927693,\n",
              "          0.47300115,  0.54407793,  0.07862639],\n",
              "        [ 1.1074768 ,  0.12628831, -0.13413909,  0.21149889,  0.09829151,\n",
              "         -0.06749719, -0.5040303 , -0.9470191 ],\n",
              "        [ 0.05513373, -0.04747535, -0.16785006,  0.14748657, -0.22318223,\n",
              "         -0.17356707,  0.22897144,  0.2571412 ],\n",
              "        [ 0.3302446 , -0.3266476 ,  0.6886214 ,  0.02413775, -0.8905656 ,\n",
              "          0.14342308, -0.5161296 ,  0.24106953],\n",
              "        [-0.09043656, -0.13405402,  0.41531175,  0.21884029, -0.64104617,\n",
              "         -1.2618698 ,  0.4312356 , -0.30217957],\n",
              "        [ 0.42870772,  0.37097806, -0.567765  ,  0.08741526, -0.29796442,\n",
              "          0.0573869 , -0.13374232,  0.27863955],\n",
              "        [-0.02038745,  0.17521879,  0.38403094, -0.44222805, -0.36667818,\n",
              "          0.13469744,  0.54385966, -0.48752245],\n",
              "        [ 0.2943199 , -0.21980883, -0.33675823, -0.6413368 ,  0.63916206,\n",
              "         -0.43275917, -0.00478136, -0.6054785 ]], dtype=float32),\n",
              " array([ 0.00230821, -0.1522879 , -0.14460275,  0.05558732,  0.02701021,\n",
              "        -0.11782496, -0.10204484, -0.08818504], dtype=float32),\n",
              " array([1.3332028 , 1.1251429 , 0.85001284, 0.96908915, 0.8152128 ,\n",
              "        1.2250733 , 0.84679776, 1.0560704 ], dtype=float32),\n",
              " array([ 0.19767278,  0.39423263,  0.22875291, -0.03653397, -0.26682115,\n",
              "        -0.24992998, -0.34942648,  0.00556043], dtype=float32),\n",
              " array([ 0.6016996 , -0.20206438, -0.08241832, -0.12609723, -0.34348968,\n",
              "        -0.43013898,  0.0592011 , -0.6497984 ], dtype=float32),\n",
              " array([0.6394329 , 0.12431413, 0.08025111, 0.10644004, 0.29907933,\n",
              "        0.65809655, 0.27566212, 0.4045884 ], dtype=float32),\n",
              " array([[ 0.24703306,  0.23173128,  0.29309916,  0.5857209 , -0.19149251,\n",
              "         -0.5725188 ,  0.2765641 ,  0.14967361],\n",
              "        [-0.54209423, -0.1459068 , -0.7456365 ,  0.08601677, -0.02753077,\n",
              "         -1.0403088 , -0.12442665, -0.28573084],\n",
              "        [ 0.49453017, -0.45060444,  0.5914349 , -0.36981344, -0.05381917,\n",
              "          0.14957619, -0.08454649, -0.1149203 ],\n",
              "        [-0.7857912 ,  0.63844615, -0.30921733,  0.17668043,  0.01386009,\n",
              "         -0.201342  ,  0.24195668, -0.17330226],\n",
              "        [-0.04534909, -0.4479464 , -0.0857233 , -0.8181265 ,  0.18049347,\n",
              "          0.49158445,  0.38827172,  0.2000675 ],\n",
              "        [ 0.09909754, -0.10413265, -0.07240586,  0.26130602, -0.8065293 ,\n",
              "         -0.27738017, -0.17431167, -0.5891672 ],\n",
              "        [-0.15540239,  0.08041992, -0.12563097,  0.2677344 ,  0.06082025,\n",
              "          0.7320778 , -0.14767098,  0.29756007],\n",
              "        [-0.6635249 ,  0.19202521,  0.12859187,  0.20538145,  0.00712836,\n",
              "         -0.19147153, -0.44819605, -0.20789221]], dtype=float32),\n",
              " array([-0.06056893,  0.01520347,  0.12324054, -0.07334005, -0.04853987,\n",
              "         0.14906643, -0.00068454, -0.01031328], dtype=float32),\n",
              " array([2.3310759e+00, 1.1263570e-08, 2.4252825e+00, 8.0255508e-01,\n",
              "        2.1454222e+00, 2.3044393e+00, 4.5563091e-09, 2.0944438e+00],\n",
              "       dtype=float32),\n",
              " array([ 1.8122604, -1.2784646,  1.5361373, -1.0399673,  1.7257785,\n",
              "         1.8922791, -1.2784646,  1.9337454], dtype=float32),\n",
              " array([-0.3627856 ,  0.05472343,  0.0092521 ,  0.2542854 , -0.33067095,\n",
              "        -0.6976057 , -0.05041893, -0.3064121 ], dtype=float32),\n",
              " array([0.45525467, 0.18451838, 0.17244877, 0.22787881, 0.14743403,\n",
              "        0.8731227 , 0.20776336, 0.14825965], dtype=float32),\n",
              " array([[ 2.2911549],\n",
              "        [-1.9613003],\n",
              "        [ 1.9028841],\n",
              "        [-2.3306506],\n",
              "        [ 1.6604707],\n",
              "        [ 1.6287597],\n",
              "        [-1.7103199],\n",
              "        [ 2.282661 ]], dtype=float32),\n",
              " array([1.8747419], dtype=float32)]"
            ]
          },
          "metadata": {
            "tags": []
          },
          "execution_count": 28
        }
      ]
    },
    {
      "cell_type": "code",
      "metadata": {
        "id": "SIoSjKGmbL8Z"
      },
      "source": [
        ""
      ],
      "execution_count": null,
      "outputs": []
    }
  ]
}